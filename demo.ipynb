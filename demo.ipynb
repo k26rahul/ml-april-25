{
 "cells": [
  {
   "cell_type": "code",
   "execution_count": 2,
   "id": "704ad0c6",
   "metadata": {},
   "outputs": [],
   "source": [
    "import numpy as np\n",
    "import matplotlib.pyplot as plt"
   ]
  },
  {
   "cell_type": "code",
   "execution_count": 54,
   "id": "3147bb74",
   "metadata": {},
   "outputs": [],
   "source": [
    "ages = np.array([15, 20, 20, 25, 30, 35, 40])"
   ]
  },
  {
   "cell_type": "code",
   "execution_count": 64,
   "id": "a702e4cc",
   "metadata": {},
   "outputs": [
    {
     "data": {
      "text/plain": [
       "Ellipsis"
      ]
     },
     "execution_count": 64,
     "metadata": {},
     "output_type": "execute_result"
    },
    {
     "data": {
      "text/plain": [
       "Ellipsis"
      ]
     },
     "execution_count": 64,
     "metadata": {},
     "output_type": "execute_result"
    },
    {
     "data": {
      "text/plain": [
       "Ellipsis"
      ]
     },
     "execution_count": 64,
     "metadata": {},
     "output_type": "execute_result"
    },
    {
     "data": {
      "text/plain": [
       "Ellipsis"
      ]
     },
     "execution_count": 64,
     "metadata": {},
     "output_type": "execute_result"
    },
    {
     "data": {
      "text/plain": [
       "Ellipsis"
      ]
     },
     "execution_count": 64,
     "metadata": {},
     "output_type": "execute_result"
    },
    {
     "data": {
      "text/plain": [
       "Ellipsis"
      ]
     },
     "execution_count": 64,
     "metadata": {},
     "output_type": "execute_result"
    }
   ],
   "source": [
    "freq = {}\n",
    "for age in ages:\n",
    "  if age in freq:\n",
    "    freq[age] += 1\n",
    "  else:\n",
    "    freq[age] = 1\n",
    "\n",
    "items = list(freq.items())\n",
    "maxi = items[0]\n",
    "for key, val in items:\n",
    "  ..."
   ]
  },
  {
   "cell_type": "code",
   "execution_count": 57,
   "id": "1885b932",
   "metadata": {},
   "outputs": [
    {
     "name": "stdout",
     "output_type": "stream",
     "text": [
      "mean=26.43\n",
      "median=25.00\n",
      "mode=20.00\n",
      "variance=69.39\n",
      "std_dev=8.33\n"
     ]
    }
   ],
   "source": [
    "mean = np.mean(ages)  # typical value\n",
    "median = np.median(ages)  # typical value\n",
    "mode = np.argmax(np.bincount(ages))  # typical value\n",
    "variance = np.var(ages)  # spread of data\n",
    "std_dev = np.std(ages)  # spread of data\n",
    "\n",
    "print(f'{mean=:.2f}')\n",
    "print(f'{median=:.2f}')\n",
    "print(f'{mode=:.2f}')\n",
    "print(f'{variance=:.2f}')\n",
    "print(f'{std_dev=:.2f}')"
   ]
  },
  {
   "cell_type": "code",
   "execution_count": 97,
   "id": "70347a9d",
   "metadata": {},
   "outputs": [
    {
     "data": {
      "image/png": "[encoded data removed]",
      "text/plain": [
       "<Figure size 1500x500 with 2 Axes>"
      ]
     },
     "metadata": {},
     "output_type": "display_data"
    }
   ],
   "source": [
    "def plot_stats():\n",
    "  fig, (ax1, ax2) = plt.subplots(1, 2, figsize=(15, 5))\n",
    "\n",
    "  ax1.scatter(range(len(ages)), ages)\n",
    "  ax1.axhline(mean, color='r')\n",
    "  ax1.axhline(median, color='g', linestyle='--')\n",
    "  ax1.axhline(mode, color='y', linestyle='--')\n",
    "\n",
    "  ax2.scatter(range(len(ages)), ages)\n",
    "  ax2.axhline(mean + std_dev, color='r')\n",
    "  ax2.axhline(mean - std_dev, color='r')\n",
    "\n",
    "\n",
    "plot_stats()"
   ]
  }
 ],
 "metadata": {
  "kernelspec": {
   "display_name": "Python 3",
   "language": "python",
   "name": "python3"
  },
  "language_info": {
   "codemirror_mode": {
    "name": "ipython",
    "version": 3
   },
   "file_extension": ".py",
   "mimetype": "text/x-python",
   "name": "python",
   "nbconvert_exporter": "python",
   "pygments_lexer": "ipython3",
   "version": "3.12.6"
  }
 },
 "nbformat": 4,
 "nbformat_minor": 5
}
