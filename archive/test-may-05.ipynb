{
 "cells": [
  {
   "cell_type": "code",
   "execution_count": 1,
   "id": "4b92dbfd",
   "metadata": {},
   "outputs": [],
   "source": [
    "import numpy as np"
   ]
  },
  {
   "cell_type": "code",
   "execution_count": 2,
   "id": "ce48dd2b",
   "metadata": {},
   "outputs": [
    {
     "data": {
      "text/plain": [
       "array(['10', 'apple'], dtype='<U21')"
      ]
     },
     "execution_count": 2,
     "metadata": {},
     "output_type": "execute_result"
    },
    {
     "data": {
      "text/plain": [
       "array(['a', 'b', 'c'], dtype='<U1')"
      ]
     },
     "execution_count": 2,
     "metadata": {},
     "output_type": "execute_result"
    },
    {
     "data": {
      "text/plain": [
       "array(['cat', 'bat', 'mat'], dtype='<U3')"
      ]
     },
     "execution_count": 2,
     "metadata": {},
     "output_type": "execute_result"
    }
   ],
   "source": [
    "np.array([10, 'apple'])\n",
    "np.array(['a', 'b', 'c'])\n",
    "np.array(['cat', 'bat', 'mat'])"
   ]
  },
  {
   "cell_type": "code",
   "execution_count": 3,
   "id": "58f3b78a",
   "metadata": {},
   "outputs": [
    {
     "data": {
      "text/plain": [
       "[['apple', 'banana'], ['kiwi']]"
      ]
     },
     "execution_count": 3,
     "metadata": {},
     "output_type": "execute_result"
    },
    {
     "data": {
      "text/plain": [
       "(3, 2)"
      ]
     },
     "execution_count": 3,
     "metadata": {},
     "output_type": "execute_result"
    }
   ],
   "source": [
    "[\n",
    "    ['apple', 'banana'],\n",
    "    ['kiwi']\n",
    "]\n",
    "\n",
    "np.array([\n",
    "    ['apple', 'banana'],\n",
    "    ['kiwi', 'pineapple'],\n",
    "    ['orange', 'NA']\n",
    "]).shape"
   ]
  },
  {
   "cell_type": "code",
   "execution_count": 4,
   "id": "94d0e096",
   "metadata": {},
   "outputs": [
    {
     "data": {
      "text/plain": [
       "np.str_('banana')"
      ]
     },
     "execution_count": 4,
     "metadata": {},
     "output_type": "execute_result"
    },
    {
     "data": {
      "text/plain": [
       "np.str_('banana')"
      ]
     },
     "execution_count": 4,
     "metadata": {},
     "output_type": "execute_result"
    }
   ],
   "source": [
    "lst = np.array([\n",
    "    ['apple', 'banana'],\n",
    "    ['kiwi', 'pineapple'],\n",
    "    ['orange', 'NA']\n",
    "])\n",
    "\n",
    "lst[0, 1]\n",
    "lst[0][1]"
   ]
  },
  {
   "cell_type": "code",
   "execution_count": 5,
   "id": "be6b006f",
   "metadata": {},
   "outputs": [
    {
     "data": {
      "text/plain": [
       "'hello vidu'"
      ]
     },
     "execution_count": 5,
     "metadata": {},
     "output_type": "execute_result"
    },
    {
     "data": {
      "text/plain": [
       "'hello rahul'"
      ]
     },
     "execution_count": 5,
     "metadata": {},
     "output_type": "execute_result"
    },
    {
     "data": {
      "text/plain": [
       "'hello vishnu'"
      ]
     },
     "execution_count": 5,
     "metadata": {},
     "output_type": "execute_result"
    }
   ],
   "source": [
    "def greet(name):\n",
    "  return f'hello {name}'\n",
    "\n",
    "\n",
    "for name in np.array(['vidu', 'rahul', 'vishnu']):\n",
    "  greet(name)"
   ]
  },
  {
   "cell_type": "code",
   "execution_count": 6,
   "id": "bb7372bb",
   "metadata": {},
   "outputs": [
    {
     "data": {
      "text/plain": [
       "array([36, 49, 64])"
      ]
     },
     "execution_count": 6,
     "metadata": {},
     "output_type": "execute_result"
    },
    {
     "data": {
      "text/plain": [
       "array([12, 21, 80])"
      ]
     },
     "execution_count": 6,
     "metadata": {},
     "output_type": "execute_result"
    },
    {
     "data": {
      "text/plain": [
       "array([ 8, 10, 18])"
      ]
     },
     "execution_count": 6,
     "metadata": {},
     "output_type": "execute_result"
    }
   ],
   "source": [
    "np.array([6, 7, 8]) ** 2\n",
    "np.array([6, 7, 8]) * np.array([2, 3, 10])\n",
    "np.array([6, 7, 8]) + np.array([2, 3, 10])\n",
    "# np.array([6, 7, 8]) + np.array([2, 3, 10, 15]) # fails, not homogenous"
   ]
  },
  {
   "cell_type": "code",
   "execution_count": 7,
   "id": "20aef8e7",
   "metadata": {},
   "outputs": [
    {
     "data": {
      "text/plain": [
       "array([ True,  True,  True])"
      ]
     },
     "execution_count": 7,
     "metadata": {},
     "output_type": "execute_result"
    },
    {
     "data": {
      "text/plain": [
       "array([False,  True,  True,  True, False])"
      ]
     },
     "execution_count": 7,
     "metadata": {},
     "output_type": "execute_result"
    }
   ],
   "source": [
    "np.array([6, 7, 8]) > 2\n",
    "np.array([6, 7, 8, 10, 5]) >= 7"
   ]
  },
  {
   "cell_type": "code",
   "execution_count": 8,
   "id": "7ffe6a1f",
   "metadata": {},
   "outputs": [
    {
     "data": {
      "text/plain": [
       "array([False, False,  True,  True, False, False])"
      ]
     },
     "execution_count": 8,
     "metadata": {},
     "output_type": "execute_result"
    },
    {
     "data": {
      "text/plain": [
       "(array([2, 3]),)"
      ]
     },
     "execution_count": 8,
     "metadata": {},
     "output_type": "execute_result"
    }
   ],
   "source": [
    "np.array([4, 1, 9, 10, 4, 5]) >= 7\n",
    "np.where(np.array([4, 1, 9, 10, 4, 5]) >= 7)"
   ]
  },
  {
   "cell_type": "code",
   "execution_count": 9,
   "id": "7b4b2586",
   "metadata": {},
   "outputs": [
    {
     "data": {
      "text/plain": [
       "['apple', 'apple', 'apple', 'apple', 'apple', 'apple', 'apple']"
      ]
     },
     "execution_count": 9,
     "metadata": {},
     "output_type": "execute_result"
    },
    {
     "data": {
      "text/plain": [
       "array(['apple', 'apple', 'apple', 'apple', 'apple', 'apple', 'apple'],\n",
       "      dtype='<U5')"
      ]
     },
     "execution_count": 9,
     "metadata": {},
     "output_type": "execute_result"
    }
   ],
   "source": [
    "['apple'] * 7\n",
    "np.array(['apple'] * 7)"
   ]
  },
  {
   "cell_type": "code",
   "execution_count": 10,
   "id": "91d3da3d",
   "metadata": {},
   "outputs": [
    {
     "data": {
      "text/plain": [
       "array([ True, False,  True,  True, False, False,  True])"
      ]
     },
     "execution_count": 10,
     "metadata": {},
     "output_type": "execute_result"
    },
    {
     "data": {
      "text/plain": [
       "array(['apple', 'banana', 'apple', 'apple', 'banana', 'banana', 'apple'],\n",
       "      dtype='<U6')"
      ]
     },
     "execution_count": 10,
     "metadata": {},
     "output_type": "execute_result"
    }
   ],
   "source": [
    "np.array([4, 5, 8, 10, 11, 15, 20]) % 2 == 0\n",
    "np.where(np.array([4, 5, 8, 10, 11, 15, 20]) % 2 == 0,\n",
    "         np.array(['apple'] * 7),\n",
    "         np.array(['banana'] * 7))"
   ]
  }
 ],
 "metadata": {
  "kernelspec": {
   "display_name": "Python 3",
   "language": "python",
   "name": "python3"
  },
  "language_info": {
   "codemirror_mode": {
    "name": "ipython",
    "version": 3
   },
   "file_extension": ".py",
   "mimetype": "text/x-python",
   "name": "python",
   "nbconvert_exporter": "python",
   "pygments_lexer": "ipython3",
   "version": "3.12.6"
  }
 },
 "nbformat": 4,
 "nbformat_minor": 5
}
