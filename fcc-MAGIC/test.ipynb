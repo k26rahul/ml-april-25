{
 "cells": [
  {
   "cell_type": "code",
   "execution_count": 1,
   "id": "39452a0e",
   "metadata": {},
   "outputs": [],
   "source": [
    "import numpy as np\n",
    "import pandas as pd\n",
    "import matplotlib.pyplot as plt"
   ]
  },
  {
   "cell_type": "code",
   "execution_count": 2,
   "id": "67887d59",
   "metadata": {},
   "outputs": [
    {
     "data": {
      "text/html": [
       "<div>\n",
       "<style scoped>\n",
       "    .dataframe tbody tr th:only-of-type {\n",
       "        vertical-align: middle;\n",
       "    }\n",
       "\n",
       "    .dataframe tbody tr th {\n",
       "        vertical-align: top;\n",
       "    }\n",
       "\n",
       "    .dataframe thead th {\n",
       "        text-align: right;\n",
       "    }\n",
       "</style>\n",
       "<table border=\"1\" class=\"dataframe\">\n",
       "  <thead>\n",
       "    <tr style=\"text-align: right;\">\n",
       "      <th></th>\n",
       "      <th>fLength</th>\n",
       "      <th>fWidth</th>\n",
       "      <th>fSize</th>\n",
       "      <th>fConc</th>\n",
       "      <th>fConc1</th>\n",
       "      <th>fAsym</th>\n",
       "      <th>fM3Long</th>\n",
       "      <th>fM3Trans</th>\n",
       "      <th>fAlpha</th>\n",
       "      <th>fDist</th>\n",
       "      <th>class</th>\n",
       "    </tr>\n",
       "  </thead>\n",
       "  <tbody>\n",
       "    <tr>\n",
       "      <th>0</th>\n",
       "      <td>28.7967</td>\n",
       "      <td>16.0021</td>\n",
       "      <td>2.6449</td>\n",
       "      <td>0.3918</td>\n",
       "      <td>0.1982</td>\n",
       "      <td>27.7004</td>\n",
       "      <td>22.0110</td>\n",
       "      <td>-8.2027</td>\n",
       "      <td>40.0920</td>\n",
       "      <td>81.8828</td>\n",
       "      <td>g</td>\n",
       "    </tr>\n",
       "    <tr>\n",
       "      <th>1</th>\n",
       "      <td>31.6036</td>\n",
       "      <td>11.7235</td>\n",
       "      <td>2.5185</td>\n",
       "      <td>0.5303</td>\n",
       "      <td>0.3773</td>\n",
       "      <td>26.2722</td>\n",
       "      <td>23.8238</td>\n",
       "      <td>-9.9574</td>\n",
       "      <td>6.3609</td>\n",
       "      <td>205.2610</td>\n",
       "      <td>g</td>\n",
       "    </tr>\n",
       "    <tr>\n",
       "      <th>2</th>\n",
       "      <td>162.0520</td>\n",
       "      <td>136.0310</td>\n",
       "      <td>4.0612</td>\n",
       "      <td>0.0374</td>\n",
       "      <td>0.0187</td>\n",
       "      <td>116.7410</td>\n",
       "      <td>-64.8580</td>\n",
       "      <td>-45.2160</td>\n",
       "      <td>76.9600</td>\n",
       "      <td>256.7880</td>\n",
       "      <td>g</td>\n",
       "    </tr>\n",
       "    <tr>\n",
       "      <th>3</th>\n",
       "      <td>23.8172</td>\n",
       "      <td>9.5728</td>\n",
       "      <td>2.3385</td>\n",
       "      <td>0.6147</td>\n",
       "      <td>0.3922</td>\n",
       "      <td>27.2107</td>\n",
       "      <td>-6.4633</td>\n",
       "      <td>-7.1513</td>\n",
       "      <td>10.4490</td>\n",
       "      <td>116.7370</td>\n",
       "      <td>g</td>\n",
       "    </tr>\n",
       "    <tr>\n",
       "      <th>4</th>\n",
       "      <td>75.1362</td>\n",
       "      <td>30.9205</td>\n",
       "      <td>3.1611</td>\n",
       "      <td>0.3168</td>\n",
       "      <td>0.1832</td>\n",
       "      <td>-5.5277</td>\n",
       "      <td>28.5525</td>\n",
       "      <td>21.8393</td>\n",
       "      <td>4.6480</td>\n",
       "      <td>356.4620</td>\n",
       "      <td>g</td>\n",
       "    </tr>\n",
       "    <tr>\n",
       "      <th>...</th>\n",
       "      <td>...</td>\n",
       "      <td>...</td>\n",
       "      <td>...</td>\n",
       "      <td>...</td>\n",
       "      <td>...</td>\n",
       "      <td>...</td>\n",
       "      <td>...</td>\n",
       "      <td>...</td>\n",
       "      <td>...</td>\n",
       "      <td>...</td>\n",
       "      <td>...</td>\n",
       "    </tr>\n",
       "    <tr>\n",
       "      <th>19015</th>\n",
       "      <td>21.3846</td>\n",
       "      <td>10.9170</td>\n",
       "      <td>2.6161</td>\n",
       "      <td>0.5857</td>\n",
       "      <td>0.3934</td>\n",
       "      <td>15.2618</td>\n",
       "      <td>11.5245</td>\n",
       "      <td>2.8766</td>\n",
       "      <td>2.4229</td>\n",
       "      <td>106.8258</td>\n",
       "      <td>h</td>\n",
       "    </tr>\n",
       "    <tr>\n",
       "      <th>19016</th>\n",
       "      <td>28.9452</td>\n",
       "      <td>6.7020</td>\n",
       "      <td>2.2672</td>\n",
       "      <td>0.5351</td>\n",
       "      <td>0.2784</td>\n",
       "      <td>37.0816</td>\n",
       "      <td>13.1853</td>\n",
       "      <td>-2.9632</td>\n",
       "      <td>86.7975</td>\n",
       "      <td>247.4560</td>\n",
       "      <td>h</td>\n",
       "    </tr>\n",
       "    <tr>\n",
       "      <th>19017</th>\n",
       "      <td>75.4455</td>\n",
       "      <td>47.5305</td>\n",
       "      <td>3.4483</td>\n",
       "      <td>0.1417</td>\n",
       "      <td>0.0549</td>\n",
       "      <td>-9.3561</td>\n",
       "      <td>41.0562</td>\n",
       "      <td>-9.4662</td>\n",
       "      <td>30.2987</td>\n",
       "      <td>256.5166</td>\n",
       "      <td>h</td>\n",
       "    </tr>\n",
       "    <tr>\n",
       "      <th>19018</th>\n",
       "      <td>120.5135</td>\n",
       "      <td>76.9018</td>\n",
       "      <td>3.9939</td>\n",
       "      <td>0.0944</td>\n",
       "      <td>0.0683</td>\n",
       "      <td>5.8043</td>\n",
       "      <td>-93.5224</td>\n",
       "      <td>-63.8389</td>\n",
       "      <td>84.6874</td>\n",
       "      <td>408.3166</td>\n",
       "      <td>h</td>\n",
       "    </tr>\n",
       "    <tr>\n",
       "      <th>19019</th>\n",
       "      <td>187.1814</td>\n",
       "      <td>53.0014</td>\n",
       "      <td>3.2093</td>\n",
       "      <td>0.2876</td>\n",
       "      <td>0.1539</td>\n",
       "      <td>-167.3125</td>\n",
       "      <td>-168.4558</td>\n",
       "      <td>31.4755</td>\n",
       "      <td>52.7310</td>\n",
       "      <td>272.3174</td>\n",
       "      <td>h</td>\n",
       "    </tr>\n",
       "  </tbody>\n",
       "</table>\n",
       "<p>19020 rows × 11 columns</p>\n",
       "</div>"
      ],
      "text/plain": [
       "        fLength    fWidth   fSize   fConc  fConc1     fAsym   fM3Long  \\\n",
       "0       28.7967   16.0021  2.6449  0.3918  0.1982   27.7004   22.0110   \n",
       "1       31.6036   11.7235  2.5185  0.5303  0.3773   26.2722   23.8238   \n",
       "2      162.0520  136.0310  4.0612  0.0374  0.0187  116.7410  -64.8580   \n",
       "3       23.8172    9.5728  2.3385  0.6147  0.3922   27.2107   -6.4633   \n",
       "4       75.1362   30.9205  3.1611  0.3168  0.1832   -5.5277   28.5525   \n",
       "...         ...       ...     ...     ...     ...       ...       ...   \n",
       "19015   21.3846   10.9170  2.6161  0.5857  0.3934   15.2618   11.5245   \n",
       "19016   28.9452    6.7020  2.2672  0.5351  0.2784   37.0816   13.1853   \n",
       "19017   75.4455   47.5305  3.4483  0.1417  0.0549   -9.3561   41.0562   \n",
       "19018  120.5135   76.9018  3.9939  0.0944  0.0683    5.8043  -93.5224   \n",
       "19019  187.1814   53.0014  3.2093  0.2876  0.1539 -167.3125 -168.4558   \n",
       "\n",
       "       fM3Trans   fAlpha     fDist class  \n",
       "0       -8.2027  40.0920   81.8828     g  \n",
       "1       -9.9574   6.3609  205.2610     g  \n",
       "2      -45.2160  76.9600  256.7880     g  \n",
       "3       -7.1513  10.4490  116.7370     g  \n",
       "4       21.8393   4.6480  356.4620     g  \n",
       "...         ...      ...       ...   ...  \n",
       "19015    2.8766   2.4229  106.8258     h  \n",
       "19016   -2.9632  86.7975  247.4560     h  \n",
       "19017   -9.4662  30.2987  256.5166     h  \n",
       "19018  -63.8389  84.6874  408.3166     h  \n",
       "19019   31.4755  52.7310  272.3174     h  \n",
       "\n",
       "[19020 rows x 11 columns]"
      ]
     },
     "execution_count": 2,
     "metadata": {},
     "output_type": "execute_result"
    }
   ],
   "source": [
    "col_names = ['fLength', 'fWidth', 'fSize', 'fConc', 'fConc1',\n",
    "             'fAsym', 'fM3Long', 'fM3Trans', 'fAlpha', 'fDist', 'class',]\n",
    "df = pd.read_csv('magic04.data', names=col_names)\n",
    "df"
   ]
  },
  {
   "cell_type": "code",
   "execution_count": 3,
   "id": "730bb200",
   "metadata": {},
   "outputs": [],
   "source": [
    "df['class'] = pd.factorize(df['class'])[0]"
   ]
  },
  {
   "cell_type": "markdown",
   "id": "c516d1bf",
   "metadata": {},
   "source": [
    "train, valid, test splitting 60%, 20%, 20%"
   ]
  },
  {
   "cell_type": "code",
   "execution_count": 4,
   "id": "f249f70e",
   "metadata": {},
   "outputs": [],
   "source": [
    "# int(len(df) * .6)\n",
    "# int(len(df) * .8)\n",
    "\n",
    "# df.sample(frac=1, random_state=1)"
   ]
  },
  {
   "cell_type": "code",
   "execution_count": 5,
   "id": "44636da7",
   "metadata": {},
   "outputs": [
    {
     "name": "stderr",
     "output_type": "stream",
     "text": [
      "c:\\Users\\k26ra\\AppData\\Local\\Programs\\Python\\Python312\\Lib\\site-packages\\numpy\\_core\\fromnumeric.py:57: FutureWarning: 'DataFrame.swapaxes' is deprecated and will be removed in a future version. Please use 'DataFrame.transpose' instead.\n",
      "  return bound(*args, **kwds)\n"
     ]
    }
   ],
   "source": [
    "train, valid, test = np.split(df.sample(frac=1, random_state=1), [int(len(df) * .6), int(len(df) * .8)])\n",
    "\n",
    "# train\n",
    "# valid\n",
    "# test"
   ]
  },
  {
   "cell_type": "markdown",
   "id": "8234fda1",
   "metadata": {},
   "source": [
    "scaling"
   ]
  },
  {
   "cell_type": "code",
   "execution_count": 6,
   "id": "bfbb9845",
   "metadata": {},
   "outputs": [
    {
     "data": {
      "text/plain": [
       "(2, 3, 2)"
      ]
     },
     "execution_count": 6,
     "metadata": {},
     "output_type": "execute_result"
    }
   ],
   "source": [
    "np.array(\n",
    "    [\n",
    "        [[20, 21], [30, 31], [50, 51]],\n",
    "        [[13, 14], [16, 17], [19, 20]]\n",
    "    ]\n",
    ").shape"
   ]
  },
  {
   "cell_type": "code",
   "execution_count": 7,
   "id": "5a8e9de9",
   "metadata": {},
   "outputs": [],
   "source": [
    "# np.array([60, 70, 80, 90]).shape # 1d array\n",
    "# np.array([[60], [70], [80], [90]]).shape # 2d array\n",
    "\n",
    "# df['fLength']  # Series (1d)\n",
    "# df[['fLength']]  # DataFrame (2d)\n",
    "\n",
    "# df['fLength'].values  # 1d array\n",
    "# df[['fLength']].values  # 2d array"
   ]
  },
  {
   "cell_type": "code",
   "execution_count": 8,
   "id": "11170a91",
   "metadata": {},
   "outputs": [],
   "source": [
    "# df.columns[:-1]\n",
    "# df.columns[-1]"
   ]
  },
  {
   "cell_type": "code",
   "execution_count": 9,
   "id": "9ef8b4a5",
   "metadata": {},
   "outputs": [],
   "source": [
    "# X = df[df.columns[:-1]]\n",
    "# y = df[df.columns[-1]]\n",
    "\n",
    "# X  # feature matrix (pd.DataFrame)\n",
    "# y  # target vector (pd.Series)\n",
    "\n",
    "# X.values  # numpy 2d array\n",
    "# y.values  # numpy 1d array"
   ]
  },
  {
   "cell_type": "markdown",
   "id": "4ee23212",
   "metadata": {},
   "source": [
    "# random stuff below, MAGIC above"
   ]
  },
  {
   "cell_type": "markdown",
   "id": "4a0fbe4e",
   "metadata": {},
   "source": [
    "what exactly is **mapping** in programming?"
   ]
  },
  {
   "cell_type": "code",
   "execution_count": 10,
   "id": "9cc64477",
   "metadata": {},
   "outputs": [
    {
     "data": {
      "text/plain": [
       "['apple', 'apple', 'orange', 'mango']"
      ]
     },
     "execution_count": 10,
     "metadata": {},
     "output_type": "execute_result"
    },
    {
     "data": {
      "text/plain": [
       "[90, 90, 100, 50]"
      ]
     },
     "execution_count": 10,
     "metadata": {},
     "output_type": "execute_result"
    }
   ],
   "source": [
    "prices = dict(\n",
    "    mango=50,\n",
    "    orange=100,\n",
    "    kiwi=120,\n",
    "    apple=90\n",
    ")\n",
    "\n",
    "\n",
    "def mapper(fruit):\n",
    "  \"\"\" takes a fruit, returns the price of it \"\"\"\n",
    "  return prices[fruit]\n",
    "\n",
    "\n",
    "shopping = ['apple', 'apple', 'orange', 'mango']\n",
    "# i need this array: payment = [90, 90, 100, 50]\n",
    "\n",
    "payment = []\n",
    "for fruit in shopping:\n",
    "  payment.append(mapper(fruit))\n",
    "\n",
    "shopping\n",
    "payment"
   ]
  },
  {
   "cell_type": "markdown",
   "id": "54b14dab",
   "metadata": {},
   "source": [
    "categorical values -> numerical values\n",
    "\n",
    "**manual loop**"
   ]
  },
  {
   "cell_type": "code",
   "execution_count": 11,
   "id": "62b9ba22",
   "metadata": {},
   "outputs": [
    {
     "data": {
      "text/plain": [
       "array(['g', 'g', 'h', 'w', 'w'], dtype='<U1')"
      ]
     },
     "execution_count": 11,
     "metadata": {},
     "output_type": "execute_result"
    },
    {
     "data": {
      "text/plain": [
       "[1, 1, 2, 3, 3]"
      ]
     },
     "execution_count": 11,
     "metadata": {},
     "output_type": "execute_result"
    }
   ],
   "source": [
    "mapping = dict(g=1, h=2, w=3)\n",
    "\n",
    "\n",
    "def mapper(letter):\n",
    "  return mapping[letter]\n",
    "\n",
    "\n",
    "array = np.array(['g', 'g', 'h', 'w', 'w'])\n",
    "\n",
    "converted = []\n",
    "for letter in array:\n",
    "  converted.append(mapper(letter))\n",
    "\n",
    "array\n",
    "converted"
   ]
  },
  {
   "cell_type": "markdown",
   "id": "5477c087",
   "metadata": {},
   "source": [
    "categorical values -> numerical values\n",
    "\n",
    "**using vectorize**"
   ]
  },
  {
   "cell_type": "code",
   "execution_count": 12,
   "id": "70f9514b",
   "metadata": {},
   "outputs": [
    {
     "data": {
      "text/plain": [
       "array(['g', 'g', 'h', 'w', 'w'], dtype='<U1')"
      ]
     },
     "execution_count": 12,
     "metadata": {},
     "output_type": "execute_result"
    },
    {
     "data": {
      "text/plain": [
       "array([1, 1, 2, 3, 3])"
      ]
     },
     "execution_count": 12,
     "metadata": {},
     "output_type": "execute_result"
    }
   ],
   "source": [
    "mapping = dict(g=1, h=2, w=3)\n",
    "\n",
    "\n",
    "def mapper(letter):\n",
    "  return mapping[letter]\n",
    "\n",
    "\n",
    "array = np.array(['g', 'g', 'h', 'w', 'w'])\n",
    "converted = np.vectorize(mapper)(array)\n",
    "\n",
    "array\n",
    "converted"
   ]
  },
  {
   "cell_type": "markdown",
   "id": "0d2506db",
   "metadata": {},
   "source": [
    "categorical values -> numerical values\n",
    "\n",
    "**using bool mask** (works for binary categories only)"
   ]
  },
  {
   "cell_type": "code",
   "execution_count": 13,
   "id": "e754e727",
   "metadata": {},
   "outputs": [
    {
     "data": {
      "text/plain": [
       "array(['g', 'g', 'h'], dtype='<U1')"
      ]
     },
     "execution_count": 13,
     "metadata": {},
     "output_type": "execute_result"
    },
    {
     "data": {
      "text/plain": [
       "array([ True,  True, False])"
      ]
     },
     "execution_count": 13,
     "metadata": {},
     "output_type": "execute_result"
    },
    {
     "data": {
      "text/plain": [
       "array([1, 1, 0])"
      ]
     },
     "execution_count": 13,
     "metadata": {},
     "output_type": "execute_result"
    }
   ],
   "source": [
    "# g = 1, h = 0\n",
    "\n",
    "array = np.array(['g', 'g', 'h'])\n",
    "bool_mask = array == 'g'\n",
    "converted = bool_mask.astype(int)\n",
    "\n",
    "array\n",
    "bool_mask\n",
    "converted"
   ]
  },
  {
   "cell_type": "markdown",
   "id": "14837c65",
   "metadata": {},
   "source": [
    "convert `class` col\n",
    "\n",
    "g, h -> 1, 0\n",
    "\n",
    "using **pd.factorize**"
   ]
  },
  {
   "cell_type": "code",
   "execution_count": 14,
   "id": "a5add59c",
   "metadata": {},
   "outputs": [
    {
     "data": {
      "text/plain": [
       "(array([0, 0, 0, ..., 1, 1, 1]), Index([0, 1], dtype='int64'))"
      ]
     },
     "execution_count": 14,
     "metadata": {},
     "output_type": "execute_result"
    },
    {
     "data": {
      "text/plain": [
       "array([0, 0, 0, ..., 1, 1, 1])"
      ]
     },
     "execution_count": 14,
     "metadata": {},
     "output_type": "execute_result"
    }
   ],
   "source": [
    "pd.factorize(df['class'])\n",
    "pd.factorize(df['class'])[0]"
   ]
  },
  {
   "cell_type": "markdown",
   "id": "f0371437",
   "metadata": {},
   "source": [
    "convert `class` col\n",
    "\n",
    "g, h -> 1, 0\n",
    "\n",
    "using **bool mask**"
   ]
  },
  {
   "cell_type": "code",
   "execution_count": 15,
   "id": "be6fe1cf",
   "metadata": {},
   "outputs": [
    {
     "data": {
      "text/plain": [
       "array([0, 0, 0, ..., 0, 0, 0])"
      ]
     },
     "execution_count": 15,
     "metadata": {},
     "output_type": "execute_result"
    }
   ],
   "source": [
    "np.array((df['class'] == 'g').astype(int))"
   ]
  },
  {
   "cell_type": "code",
   "execution_count": 16,
   "id": "78faf94e",
   "metadata": {},
   "outputs": [],
   "source": [
    "# df['class'] = (df['class'] == 'g').astype(int)"
   ]
  },
  {
   "cell_type": "markdown",
   "id": "ddd53195",
   "metadata": {},
   "source": [
    "## how to make a df"
   ]
  },
  {
   "cell_type": "markdown",
   "id": "2cc9f9b3",
   "metadata": {},
   "source": [
    "```text\n",
    "info:\n",
    "name, age, weight, salary\n",
    "vidu, 22, 60, 10000\n",
    "rahul, 20, 65, 5000\n",
    "vishnu, 10, 40, 100\n",
    "paru, 15, 50, 2000\n",
    "```"
   ]
  },
  {
   "cell_type": "code",
   "execution_count": 17,
   "id": "07784a5c",
   "metadata": {},
   "outputs": [
    {
     "data": {
      "text/plain": [
       "'vidu'"
      ]
     },
     "execution_count": 17,
     "metadata": {},
     "output_type": "execute_result"
    },
    {
     "data": {
      "text/plain": [
       "22"
      ]
     },
     "execution_count": 17,
     "metadata": {},
     "output_type": "execute_result"
    }
   ],
   "source": [
    "friends = [\n",
    "    ['vidu', 22, 60, 10000],  # row\n",
    "    ['rahul', 20, 65, 5000],\n",
    "    ['vishnu', 10, 40, 100],\n",
    "    ['paru', 15, 50, 2000],\n",
    "]\n",
    "\n",
    "friends[0][0]  # name of 0th row\n",
    "friends[0][1]  # age of 0th row"
   ]
  },
  {
   "cell_type": "code",
   "execution_count": 18,
   "id": "14d3aa1c",
   "metadata": {},
   "outputs": [
    {
     "data": {
      "text/plain": [
       "0      vidu\n",
       "1     rahul\n",
       "2    vishnu\n",
       "3      paru\n",
       "Name: name, dtype: object"
      ]
     },
     "execution_count": 18,
     "metadata": {},
     "output_type": "execute_result"
    },
    {
     "data": {
      "text/plain": [
       "0    22\n",
       "1    20\n",
       "2    10\n",
       "3    15\n",
       "Name: age, dtype: int64"
      ]
     },
     "execution_count": 18,
     "metadata": {},
     "output_type": "execute_result"
    }
   ],
   "source": [
    "friends = pd.DataFrame(\n",
    "    [\n",
    "        ['vidu', 22, 60, 10000],  # row\n",
    "        ['rahul', 20, 65, 5000],\n",
    "        ['vishnu', 10, 40, 100],\n",
    "        ['paru', 15, 50, 2000],\n",
    "    ],\n",
    "    columns=['name', 'age', 'weight', 'salary']\n",
    ")\n",
    "\n",
    "friends['name']  # col vector\n",
    "friends['age']  # col vector"
   ]
  },
  {
   "cell_type": "code",
   "execution_count": 19,
   "id": "2306e885",
   "metadata": {},
   "outputs": [
    {
     "data": {
      "text/plain": [
       "0    rahul\n",
       "1     vidu\n",
       "Name: name, dtype: object"
      ]
     },
     "execution_count": 19,
     "metadata": {},
     "output_type": "execute_result"
    },
    {
     "data": {
      "text/plain": [
       "0    22\n",
       "1    20\n",
       "Name: age, dtype: int64"
      ]
     },
     "execution_count": 19,
     "metadata": {},
     "output_type": "execute_result"
    }
   ],
   "source": [
    "friends = pd.DataFrame(\n",
    "    {\n",
    "        'name': ['rahul', 'vidu'],  # col\n",
    "        'age': [22, 20]\n",
    "    }\n",
    ")\n",
    "\n",
    "friends['name']\n",
    "friends['age']"
   ]
  },
  {
   "cell_type": "markdown",
   "id": "1caaebfb",
   "metadata": {},
   "source": [
    "## scaling"
   ]
  },
  {
   "cell_type": "code",
   "execution_count": 20,
   "id": "4eaa94bf",
   "metadata": {},
   "outputs": [
    {
     "data": {
      "text/html": [
       "<div>\n",
       "<style scoped>\n",
       "    .dataframe tbody tr th:only-of-type {\n",
       "        vertical-align: middle;\n",
       "    }\n",
       "\n",
       "    .dataframe tbody tr th {\n",
       "        vertical-align: top;\n",
       "    }\n",
       "\n",
       "    .dataframe thead th {\n",
       "        text-align: right;\n",
       "    }\n",
       "</style>\n",
       "<table border=\"1\" class=\"dataframe\">\n",
       "  <thead>\n",
       "    <tr style=\"text-align: right;\">\n",
       "      <th></th>\n",
       "      <th>age</th>\n",
       "    </tr>\n",
       "  </thead>\n",
       "  <tbody>\n",
       "    <tr>\n",
       "      <th>count</th>\n",
       "      <td>9.000000</td>\n",
       "    </tr>\n",
       "    <tr>\n",
       "      <th>mean</th>\n",
       "      <td>48.666667</td>\n",
       "    </tr>\n",
       "    <tr>\n",
       "      <th>std</th>\n",
       "      <td>66.353221</td>\n",
       "    </tr>\n",
       "    <tr>\n",
       "      <th>min</th>\n",
       "      <td>10.000000</td>\n",
       "    </tr>\n",
       "    <tr>\n",
       "      <th>25%</th>\n",
       "      <td>15.000000</td>\n",
       "    </tr>\n",
       "    <tr>\n",
       "      <th>50%</th>\n",
       "      <td>20.000000</td>\n",
       "    </tr>\n",
       "    <tr>\n",
       "      <th>75%</th>\n",
       "      <td>23.000000</td>\n",
       "    </tr>\n",
       "    <tr>\n",
       "      <th>max</th>\n",
       "      <td>200.000000</td>\n",
       "    </tr>\n",
       "  </tbody>\n",
       "</table>\n",
       "</div>"
      ],
      "text/plain": [
       "              age\n",
       "count    9.000000\n",
       "mean    48.666667\n",
       "std     66.353221\n",
       "min     10.000000\n",
       "25%     15.000000\n",
       "50%     20.000000\n",
       "75%     23.000000\n",
       "max    200.000000"
      ]
     },
     "execution_count": 20,
     "metadata": {},
     "output_type": "execute_result"
    }
   ],
   "source": [
    "pd.DataFrame(\n",
    "    {\n",
    "        'age': [16, 20, 22, 23, 120, 200, 10, 12, 15]\n",
    "    }\n",
    ").describe()"
   ]
  },
  {
   "cell_type": "code",
   "execution_count": 21,
   "id": "471eda90",
   "metadata": {},
   "outputs": [
    {
     "data": {
      "text/plain": [
       "(np.float64(3913.5555555555566), np.float64(62.5584171439428))"
      ]
     },
     "execution_count": 21,
     "metadata": {},
     "output_type": "execute_result"
    },
    {
     "data": {
      "text/plain": [
       "(np.float64(3913.5555555555566), np.float64(62.5584171439428))"
      ]
     },
     "execution_count": 21,
     "metadata": {},
     "output_type": "execute_result"
    }
   ],
   "source": [
    "# ages = np.array([25, 25, 35, 45, 45, 10, 15, 15, 20, 22])\n",
    "ages = np.array([16, 20, 22, 23, 120, 200, 10, 12, 15])\n",
    "\n",
    "var = ((ages - ages.mean()) ** 2).mean()\n",
    "std_dev = var ** 0.5\n",
    "\n",
    "var, std_dev\n",
    "ages.var(), ages.std()"
   ]
  },
  {
   "cell_type": "markdown",
   "id": "7c6850c4",
   "metadata": {},
   "source": [
    "**standard scaling**"
   ]
  },
  {
   "cell_type": "code",
   "execution_count": 22,
   "id": "9617731c",
   "metadata": {},
   "outputs": [],
   "source": [
    "ages_scaled = (ages - ages.mean()) / std_dev"
   ]
  },
  {
   "cell_type": "code",
   "execution_count": 23,
   "id": "737e2552",
   "metadata": {},
   "outputs": [
    {
     "data": {
      "text/plain": [
       "array([ 16,  20,  22,  23, 120, 200,  10,  12,  15])"
      ]
     },
     "execution_count": 23,
     "metadata": {},
     "output_type": "execute_result"
    },
    {
     "data": {
      "text/plain": [
       "array([-0.5221786 , -0.45823836, -0.42626824, -0.41028319,  1.14026755,\n",
       "        2.41907229, -0.61808895, -0.58611884, -0.53816366])"
      ]
     },
     "execution_count": 23,
     "metadata": {},
     "output_type": "execute_result"
    },
    {
     "data": {
      "text/plain": [
       "(np.float64(48.666666666666664), np.float64(62.5584171439428))"
      ]
     },
     "execution_count": 23,
     "metadata": {},
     "output_type": "execute_result"
    },
    {
     "data": {
      "text/plain": [
       "(np.float64(3.700743415417188e-17), np.float64(0.9999999999999999))"
      ]
     },
     "execution_count": 23,
     "metadata": {},
     "output_type": "execute_result"
    }
   ],
   "source": [
    "ages\n",
    "ages_scaled\n",
    "\n",
    "ages.mean(), ages.std()\n",
    "ages_scaled.mean(), ages_scaled.std()  # mean = 0, std = 1"
   ]
  },
  {
   "cell_type": "code",
   "execution_count": 24,
   "id": "1d997719",
   "metadata": {},
   "outputs": [
    {
     "data": {
      "image/png": "[encoded data removed]",
      "text/plain": [
       "<Figure size 640x480 with 1 Axes>"
      ]
     },
     "metadata": {},
     "output_type": "display_data"
    },
    {
     "data": {
      "image/png": "[encoded data removed]",
      "text/plain": [
       "<Figure size 640x480 with 1 Axes>"
      ]
     },
     "metadata": {},
     "output_type": "display_data"
    }
   ],
   "source": [
    "def scatter_ages():\n",
    "  plt.scatter(range(len(ages)), ages)\n",
    "  plt.axhline(y=ages.mean(), color='red', linestyle='--', label=f'Mean: {ages.mean():.2f}')\n",
    "  plt.legend()\n",
    "  plt.show()\n",
    "\n",
    "  plt.scatter(range(len(ages_scaled)), ages_scaled)\n",
    "  plt.axhline(y=ages_scaled.mean(), color='red', linestyle='--', label=f'Mean: {ages_scaled.mean():.2f}')\n",
    "  plt.legend()\n",
    "  plt.show()\n",
    "\n",
    "\n",
    "scatter_ages()"
   ]
  },
  {
   "cell_type": "markdown",
   "id": "abf926ae",
   "metadata": {},
   "source": [
    "**another example**"
   ]
  },
  {
   "cell_type": "code",
   "execution_count": 25,
   "id": "8d7a385a",
   "metadata": {},
   "outputs": [
    {
     "data": {
      "text/html": [
       "<div>\n",
       "<style scoped>\n",
       "    .dataframe tbody tr th:only-of-type {\n",
       "        vertical-align: middle;\n",
       "    }\n",
       "\n",
       "    .dataframe tbody tr th {\n",
       "        vertical-align: top;\n",
       "    }\n",
       "\n",
       "    .dataframe thead th {\n",
       "        text-align: right;\n",
       "    }\n",
       "</style>\n",
       "<table border=\"1\" class=\"dataframe\">\n",
       "  <thead>\n",
       "    <tr style=\"text-align: right;\">\n",
       "      <th></th>\n",
       "      <th>name</th>\n",
       "      <th>age</th>\n",
       "      <th>salary</th>\n",
       "    </tr>\n",
       "  </thead>\n",
       "  <tbody>\n",
       "    <tr>\n",
       "      <th>0</th>\n",
       "      <td>rahul</td>\n",
       "      <td>20</td>\n",
       "      <td>100000</td>\n",
       "    </tr>\n",
       "    <tr>\n",
       "      <th>1</th>\n",
       "      <td>vishnu</td>\n",
       "      <td>10</td>\n",
       "      <td>10</td>\n",
       "    </tr>\n",
       "    <tr>\n",
       "      <th>2</th>\n",
       "      <td>tejas</td>\n",
       "      <td>1</td>\n",
       "      <td>1000</td>\n",
       "    </tr>\n",
       "    <tr>\n",
       "      <th>3</th>\n",
       "      <td>vidu</td>\n",
       "      <td>22</td>\n",
       "      <td>20000</td>\n",
       "    </tr>\n",
       "  </tbody>\n",
       "</table>\n",
       "</div>"
      ],
      "text/plain": [
       "     name  age  salary\n",
       "0   rahul   20  100000\n",
       "1  vishnu   10      10\n",
       "2   tejas    1    1000\n",
       "3    vidu   22   20000"
      ]
     },
     "execution_count": 25,
     "metadata": {},
     "output_type": "execute_result"
    },
    {
     "data": {
      "text/html": [
       "<div>\n",
       "<style scoped>\n",
       "    .dataframe tbody tr th:only-of-type {\n",
       "        vertical-align: middle;\n",
       "    }\n",
       "\n",
       "    .dataframe tbody tr th {\n",
       "        vertical-align: top;\n",
       "    }\n",
       "\n",
       "    .dataframe thead th {\n",
       "        text-align: right;\n",
       "    }\n",
       "</style>\n",
       "<table border=\"1\" class=\"dataframe\">\n",
       "  <thead>\n",
       "    <tr style=\"text-align: right;\">\n",
       "      <th></th>\n",
       "      <th>age</th>\n",
       "      <th>salary</th>\n",
       "    </tr>\n",
       "  </thead>\n",
       "  <tbody>\n",
       "    <tr>\n",
       "      <th>count</th>\n",
       "      <td>4.000000</td>\n",
       "      <td>4.000000</td>\n",
       "    </tr>\n",
       "    <tr>\n",
       "      <th>mean</th>\n",
       "      <td>13.250000</td>\n",
       "      <td>30252.500000</td>\n",
       "    </tr>\n",
       "    <tr>\n",
       "      <th>std</th>\n",
       "      <td>9.708244</td>\n",
       "      <td>47399.525578</td>\n",
       "    </tr>\n",
       "    <tr>\n",
       "      <th>min</th>\n",
       "      <td>1.000000</td>\n",
       "      <td>10.000000</td>\n",
       "    </tr>\n",
       "    <tr>\n",
       "      <th>25%</th>\n",
       "      <td>7.750000</td>\n",
       "      <td>752.500000</td>\n",
       "    </tr>\n",
       "    <tr>\n",
       "      <th>50%</th>\n",
       "      <td>15.000000</td>\n",
       "      <td>10500.000000</td>\n",
       "    </tr>\n",
       "    <tr>\n",
       "      <th>75%</th>\n",
       "      <td>20.500000</td>\n",
       "      <td>40000.000000</td>\n",
       "    </tr>\n",
       "    <tr>\n",
       "      <th>max</th>\n",
       "      <td>22.000000</td>\n",
       "      <td>100000.000000</td>\n",
       "    </tr>\n",
       "  </tbody>\n",
       "</table>\n",
       "</div>"
      ],
      "text/plain": [
       "             age         salary\n",
       "count   4.000000       4.000000\n",
       "mean   13.250000   30252.500000\n",
       "std     9.708244   47399.525578\n",
       "min     1.000000      10.000000\n",
       "25%     7.750000     752.500000\n",
       "50%    15.000000   10500.000000\n",
       "75%    20.500000   40000.000000\n",
       "max    22.000000  100000.000000"
      ]
     },
     "execution_count": 25,
     "metadata": {},
     "output_type": "execute_result"
    }
   ],
   "source": [
    "df = pd.DataFrame(\n",
    "    [\n",
    "        ['rahul', 20, 100000],\n",
    "        ['vishnu', 10, 10],\n",
    "        ['tejas', 1, 1000],\n",
    "        ['vidu', 22, 20000],\n",
    "    ],\n",
    "    columns=['name', 'age', 'salary']\n",
    ")\n",
    "\n",
    "df\n",
    "df.describe()"
   ]
  },
  {
   "cell_type": "code",
   "execution_count": 26,
   "id": "09118efc",
   "metadata": {},
   "outputs": [
    {
     "data": {
      "text/html": [
       "<div>\n",
       "<style scoped>\n",
       "    .dataframe tbody tr th:only-of-type {\n",
       "        vertical-align: middle;\n",
       "    }\n",
       "\n",
       "    .dataframe tbody tr th {\n",
       "        vertical-align: top;\n",
       "    }\n",
       "\n",
       "    .dataframe thead th {\n",
       "        text-align: right;\n",
       "    }\n",
       "</style>\n",
       "<table border=\"1\" class=\"dataframe\">\n",
       "  <thead>\n",
       "    <tr style=\"text-align: right;\">\n",
       "      <th></th>\n",
       "      <th>name</th>\n",
       "      <th>age</th>\n",
       "      <th>salary</th>\n",
       "    </tr>\n",
       "  </thead>\n",
       "  <tbody>\n",
       "    <tr>\n",
       "      <th>0</th>\n",
       "      <td>rahul</td>\n",
       "      <td>0.695285</td>\n",
       "      <td>1.471481</td>\n",
       "    </tr>\n",
       "    <tr>\n",
       "      <th>1</th>\n",
       "      <td>vishnu</td>\n",
       "      <td>-0.334767</td>\n",
       "      <td>-0.638034</td>\n",
       "    </tr>\n",
       "    <tr>\n",
       "      <th>2</th>\n",
       "      <td>tejas</td>\n",
       "      <td>-1.261814</td>\n",
       "      <td>-0.617148</td>\n",
       "    </tr>\n",
       "    <tr>\n",
       "      <th>3</th>\n",
       "      <td>vidu</td>\n",
       "      <td>0.901296</td>\n",
       "      <td>-0.216300</td>\n",
       "    </tr>\n",
       "  </tbody>\n",
       "</table>\n",
       "</div>"
      ],
      "text/plain": [
       "     name       age    salary\n",
       "0   rahul  0.695285  1.471481\n",
       "1  vishnu -0.334767 -0.638034\n",
       "2   tejas -1.261814 -0.617148\n",
       "3    vidu  0.901296 -0.216300"
      ]
     },
     "execution_count": 26,
     "metadata": {},
     "output_type": "execute_result"
    },
    {
     "data": {
      "text/html": [
       "<div>\n",
       "<style scoped>\n",
       "    .dataframe tbody tr th:only-of-type {\n",
       "        vertical-align: middle;\n",
       "    }\n",
       "\n",
       "    .dataframe tbody tr th {\n",
       "        vertical-align: top;\n",
       "    }\n",
       "\n",
       "    .dataframe thead th {\n",
       "        text-align: right;\n",
       "    }\n",
       "</style>\n",
       "<table border=\"1\" class=\"dataframe\">\n",
       "  <thead>\n",
       "    <tr style=\"text-align: right;\">\n",
       "      <th></th>\n",
       "      <th>age</th>\n",
       "      <th>salary</th>\n",
       "    </tr>\n",
       "  </thead>\n",
       "  <tbody>\n",
       "    <tr>\n",
       "      <th>count</th>\n",
       "      <td>4.000000</td>\n",
       "      <td>4.000000e+00</td>\n",
       "    </tr>\n",
       "    <tr>\n",
       "      <th>mean</th>\n",
       "      <td>0.000000</td>\n",
       "      <td>6.938894e-18</td>\n",
       "    </tr>\n",
       "    <tr>\n",
       "      <th>std</th>\n",
       "      <td>1.000000</td>\n",
       "      <td>1.000000e+00</td>\n",
       "    </tr>\n",
       "    <tr>\n",
       "      <th>min</th>\n",
       "      <td>-1.261814</td>\n",
       "      <td>-6.380338e-01</td>\n",
       "    </tr>\n",
       "    <tr>\n",
       "      <th>25%</th>\n",
       "      <td>-0.566529</td>\n",
       "      <td>-6.223691e-01</td>\n",
       "    </tr>\n",
       "    <tr>\n",
       "      <th>50%</th>\n",
       "      <td>0.180259</td>\n",
       "      <td>-4.167236e-01</td>\n",
       "    </tr>\n",
       "    <tr>\n",
       "      <th>75%</th>\n",
       "      <td>0.746788</td>\n",
       "      <td>2.056455e-01</td>\n",
       "    </tr>\n",
       "    <tr>\n",
       "      <th>max</th>\n",
       "      <td>0.901296</td>\n",
       "      <td>1.471481e+00</td>\n",
       "    </tr>\n",
       "  </tbody>\n",
       "</table>\n",
       "</div>"
      ],
      "text/plain": [
       "            age        salary\n",
       "count  4.000000  4.000000e+00\n",
       "mean   0.000000  6.938894e-18\n",
       "std    1.000000  1.000000e+00\n",
       "min   -1.261814 -6.380338e-01\n",
       "25%   -0.566529 -6.223691e-01\n",
       "50%    0.180259 -4.167236e-01\n",
       "75%    0.746788  2.056455e-01\n",
       "max    0.901296  1.471481e+00"
      ]
     },
     "execution_count": 26,
     "metadata": {},
     "output_type": "execute_result"
    }
   ],
   "source": [
    "df['age'] = (df['age'] - df['age'].mean()) / df['age'].std()\n",
    "df['salary'] = (df['salary'] - df['salary'].mean()) / df['salary'].std()\n",
    "\n",
    "df\n",
    "df.describe()"
   ]
  },
  {
   "cell_type": "markdown",
   "id": "072f5b60",
   "metadata": {},
   "source": [
    "## np.reshape, np.hstack"
   ]
  },
  {
   "cell_type": "code",
   "execution_count": 27,
   "id": "ff4a995a",
   "metadata": {},
   "outputs": [
    {
     "data": {
      "text/plain": [
       "array([[ 1,  2,  3],\n",
       "       [ 4,  5,  6],\n",
       "       [ 7,  8,  9],\n",
       "       [10, 11, 12],\n",
       "       [13, 14, 15],\n",
       "       [16, 17, 18],\n",
       "       [19, 20, 21],\n",
       "       [22, 23, 24]])"
      ]
     },
     "execution_count": 27,
     "metadata": {},
     "output_type": "execute_result"
    }
   ],
   "source": [
    "array = np.array(range(1, 25))  # 1d array with 24 elems\n",
    "\n",
    "array.reshape((-1, 3))  # 2d array"
   ]
  },
  {
   "cell_type": "code",
   "execution_count": 28,
   "id": "e94cdb7d",
   "metadata": {},
   "outputs": [
    {
     "data": {
      "text/plain": [
       "np.float64(1.4142135623730951)"
      ]
     },
     "execution_count": 28,
     "metadata": {},
     "output_type": "execute_result"
    }
   ],
   "source": [
    "lst = [1, 2, 3, 4, 5]\n",
    "\n",
    "np.std(lst)"
   ]
  },
  {
   "cell_type": "code",
   "execution_count": 29,
   "id": "e7779350",
   "metadata": {},
   "outputs": [
    {
     "data": {
      "text/plain": [
       "np.float64(1.4142135623730951)"
      ]
     },
     "execution_count": 29,
     "metadata": {},
     "output_type": "execute_result"
    },
    {
     "data": {
      "text/plain": [
       "np.float64(1.5811388300841898)"
      ]
     },
     "execution_count": 29,
     "metadata": {},
     "output_type": "execute_result"
    }
   ],
   "source": [
    "array = np.array([1, 2, 3, 4, 5])\n",
    "\n",
    "array.std()  # population\n",
    "array.std(ddof=1)  # sample"
   ]
  },
  {
   "cell_type": "code",
   "execution_count": 30,
   "id": "ddc98ad0",
   "metadata": {},
   "outputs": [
    {
     "data": {
      "text/plain": [
       "pandas.core.frame.DataFrame"
      ]
     },
     "execution_count": 30,
     "metadata": {},
     "output_type": "execute_result"
    },
    {
     "data": {
      "text/plain": [
       "pandas.core.series.Series"
      ]
     },
     "execution_count": 30,
     "metadata": {},
     "output_type": "execute_result"
    },
    {
     "data": {
      "text/plain": [
       "np.float64(1.5811388300841898)"
      ]
     },
     "execution_count": 30,
     "metadata": {},
     "output_type": "execute_result"
    },
    {
     "data": {
      "text/plain": [
       "np.float64(1.4142135623730951)"
      ]
     },
     "execution_count": 30,
     "metadata": {},
     "output_type": "execute_result"
    }
   ],
   "source": [
    "df = pd.DataFrame(\n",
    "    {\n",
    "        'numbers': [1, 2, 3, 4, 5]\n",
    "    }\n",
    ")\n",
    "\n",
    "type(df)\n",
    "type(df['numbers'])\n",
    "\n",
    "df['numbers'].std()  # sample\n",
    "df['numbers'].std(ddof=0)  # population"
   ]
  },
  {
   "cell_type": "code",
   "execution_count": 31,
   "id": "3a1237cc",
   "metadata": {},
   "outputs": [
    {
     "data": {
      "text/plain": [
       "np.float64(1.5811388300841898)"
      ]
     },
     "execution_count": 31,
     "metadata": {},
     "output_type": "execute_result"
    },
    {
     "data": {
      "text/plain": [
       "np.float64(1.4142135623730951)"
      ]
     },
     "execution_count": 31,
     "metadata": {},
     "output_type": "execute_result"
    }
   ],
   "source": [
    "numbers = pd.Series([1, 2, 3, 4, 5])\n",
    "\n",
    "numbers.std()  # sample\n",
    "numbers.std(ddof=0)  # population"
   ]
  },
  {
   "cell_type": "code",
   "execution_count": 32,
   "id": "90d25c0e",
   "metadata": {},
   "outputs": [],
   "source": [
    "array = np.array([7, 7, 7, 7, 5, 1, 2, 1, 1, 3, 5, 5, 5, 5, 1, 1, 7, 7, 0, 9, 9, 9, 9])"
   ]
  },
  {
   "cell_type": "code",
   "execution_count": 33,
   "id": "045cf060",
   "metadata": {},
   "outputs": [
    {
     "data": {
      "text/plain": [
       "{np.int64(7): 6,\n",
       " np.int64(5): 5,\n",
       " np.int64(1): 5,\n",
       " np.int64(2): 1,\n",
       " np.int64(3): 1,\n",
       " np.int64(0): 1,\n",
       " np.int64(9): 4}"
      ]
     },
     "execution_count": 33,
     "metadata": {},
     "output_type": "execute_result"
    }
   ],
   "source": [
    "freq = {}\n",
    "\n",
    "for num in array:\n",
    "  if num not in freq:\n",
    "    freq[num] = 1\n",
    "  else:\n",
    "    freq[num] += 1\n",
    "\n",
    "freq"
   ]
  },
  {
   "cell_type": "code",
   "execution_count": 34,
   "id": "e9f1c112",
   "metadata": {},
   "outputs": [
    {
     "data": {
      "text/plain": [
       "np.int64(7)"
      ]
     },
     "execution_count": 34,
     "metadata": {},
     "output_type": "execute_result"
    }
   ],
   "source": [
    "mode_num = array[0]\n",
    "mode_freq = 1\n",
    "for num in freq:\n",
    "  if freq[num] > mode_freq:\n",
    "    mode_freq = freq[num]\n",
    "    mode_num = num\n",
    "\n",
    "mode_num"
   ]
  },
  {
   "cell_type": "markdown",
   "id": "a598c3d2",
   "metadata": {},
   "source": [
    "# sigmoid function\n",
    "\n",
    "[-inf, inf] -> [0, 1]"
   ]
  },
  {
   "cell_type": "code",
   "execution_count": 50,
   "id": "6a60cf61",
   "metadata": {},
   "outputs": [
    {
     "data": {
      "text/plain": [
       "[<matplotlib.lines.Line2D at 0x18a33272ba0>]"
      ]
     },
     "execution_count": 50,
     "metadata": {},
     "output_type": "execute_result"
    },
    {
     "data": {
      "image/png": "[encoded data removed]",
      "text/plain": [
       "<Figure size 640x480 with 1 Axes>"
      ]
     },
     "metadata": {},
     "output_type": "display_data"
    }
   ],
   "source": [
    "def sigmoid(x):\n",
    "  return 1 / (1 + np.e ** -x)\n",
    "\n",
    "\n",
    "x = np.linspace(-20, 20, 200)\n",
    "y = np.vectorize(sigmoid)(x)\n",
    "\n",
    "plt.plot(x, y)\n",
    "plt.grid()"
   ]
  }
 ],
 "metadata": {
  "kernelspec": {
   "display_name": "Python 3",
   "language": "python",
   "name": "python3"
  },
  "language_info": {
   "codemirror_mode": {
    "name": "ipython",
    "version": 3
   },
   "file_extension": ".py",
   "mimetype": "text/x-python",
   "name": "python",
   "nbconvert_exporter": "python",
   "pygments_lexer": "ipython3",
   "version": "3.12.6"
  }
 },
 "nbformat": 4,
 "nbformat_minor": 5
}
